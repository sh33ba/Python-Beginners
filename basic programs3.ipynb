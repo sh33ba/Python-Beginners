{
 "cells": [
  {
   "cell_type": "markdown",
   "metadata": {},
   "source": [
    "##### 1. PROGRAM TO FIND TWO LINES ARE PARALLEL OR NOT"
   ]
  },
  {
   "cell_type": "code",
   "execution_count": 14,
   "metadata": {},
   "outputs": [
    {
     "name": "stdin",
     "output_type": "stream",
     "text": [
      "Enter start coordinates of 1st line(x,y) :  0 3\n",
      "Enter end coordinates of 1st line(x,y) :  -3 0\n",
      "Enter start coordinates of 2nd line(x,y) :  0 4\n",
      "Enter end coordinates of 2nd line(x,y) :  -2 0\n"
     ]
    },
    {
     "name": "stdout",
     "output_type": "stream",
     "text": [
      "Two lines are not parallel\n"
     ]
    }
   ],
   "source": [
    "'''map() function returns a list of the results after applying the given function \n",
    "to each item of a given iterable (list, tuple etc.)\n",
    "Syntax :\n",
    "\n",
    "map(fun, iter)\n",
    "Parameters :\n",
    "fun : It is a function to which map passes each element of given iterable.\n",
    "iter : It is a iterable which is to be mapped.'''\n",
    "\n",
    "\n",
    "x1, y1 = map(int, input(\"Enter start coordinates of 1st line(x,y) : \").split())  \n",
    "x2, y2 = map(int, input(\"Enter end coordinates of 1st line(x,y) : \").split())\n",
    "\n",
    "p1, q1 = map(int, input(\"Enter start coordinates of 2nd line(x,y) : \").split())\n",
    "p2, q2 = map(int, input(\"Enter end coordinates of 2nd line(x,y) : \").split())\n",
    "\n",
    "m1 = (y2-y1)/(x2-x1)\n",
    "m2 = (q2-q1)/(p2-p1)\n",
    "\n",
    "if m1 == m2:\n",
    "    print('Two lines are Parallel')\n",
    "else:\n",
    "    print('Two lines are not parallel')\n"
   ]
  },
  {
   "cell_type": "markdown",
   "metadata": {},
   "source": [
    "##### 2. ARMSTRONG NUMBER"
   ]
  },
  {
   "cell_type": "code",
   "execution_count": 20,
   "metadata": {},
   "outputs": [
    {
     "name": "stdin",
     "output_type": "stream",
     "text": [
      "Enter Number to check if it is Armstrong Number or not :  371\n"
     ]
    },
    {
     "name": "stdout",
     "output_type": "stream",
     "text": [
      "371  is a Armstrong Number\n"
     ]
    }
   ],
   "source": [
    "#an Armstrong Number is such that cube of number 'n' 's each digit is equal to the n\n",
    "n = int(input(\"Enter Number to check if it is Armstrong Number or not : \"))\n",
    "s = str(n)\n",
    "t=0\n",
    "for i in s:\n",
    "    t+=int(i)**3\n",
    "if t == n:\n",
    "    print(n, \" is a Armstrong Number\")\n",
    "else:\n",
    "    print(n, \" is NOT a Armstrong Number!\")"
   ]
  },
  {
   "cell_type": "markdown",
   "metadata": {},
   "source": [
    "##### 3. PROGRAM TO CHECK LEAP YEAR"
   ]
  },
  {
   "cell_type": "code",
   "execution_count": 28,
   "metadata": {},
   "outputs": [
    {
     "name": "stdin",
     "output_type": "stream",
     "text": [
      "Enter year to check whether it is LEAP YEAR or not :  2020\n"
     ]
    },
    {
     "name": "stdout",
     "output_type": "stream",
     "text": [
      "2020  is a LEAP YEAR\n"
     ]
    }
   ],
   "source": [
    "year = int(input(\"Enter year to check whether it is LEAP YEAR or not : \"))\n",
    "\n",
    "\n",
    "# A leap year is every 4 years, but not every 100 years, then again every 400 years\n",
    "if (year%400==0) or ((year%4==0) and (year%100!=0)):   \n",
    "    print(year, \" is a LEAP YEAR\")\n",
    "else:\n",
    "    print(year, \" is NOT a LEAP YEAR\")"
   ]
  },
  {
   "cell_type": "markdown",
   "metadata": {},
   "source": [
    "##### 4. PROGRAM TO PRINT LCO IN STAR PATTERN"
   ]
  },
  {
   "cell_type": "code",
   "execution_count": null,
   "metadata": {},
   "outputs": [],
   "source": [
    "*\n",
    "*\n",
    "*\n",
    "*\n",
    "******\n",
    "******\n",
    "*\n",
    "*\n",
    "*\n",
    "******\n",
    "******\n",
    "*    *\n",
    "*    *\n",
    "*    *\n",
    "******"
   ]
  },
  {
   "cell_type": "code",
   "execution_count": 37,
   "metadata": {},
   "outputs": [
    {
     "name": "stdout",
     "output_type": "stream",
     "text": [
      "*\n",
      "*\n",
      "*\n",
      "*\n",
      "******\n",
      "******\n",
      "*\n",
      "*\n",
      "*\n",
      "******\n",
      "******\n",
      "*    *\n",
      "*    *\n",
      "*    *\n",
      "******\n"
     ]
    }
   ],
   "source": [
    "#L----------------------------------\n",
    "for i in range(1,6):\n",
    "    if i<5:\n",
    "        print(\"*\")\n",
    "    else:\n",
    "        print(\"*\"*6)\n",
    "#C----------------------------------\n",
    "for i in range(1,6):\n",
    "    if 1<i<5:\n",
    "        print(\"*\")\n",
    "    else:\n",
    "        print(\"*\"*6)\n",
    "#O----------------------------------        \n",
    "for i in range(1,6):\n",
    "    if 1<i<5:\n",
    "        print(\"*\", \" \"*2, \"*\")\n",
    "    else:\n",
    "        print(\"*\"*6)"
   ]
  },
  {
   "cell_type": "code",
   "execution_count": null,
   "metadata": {},
   "outputs": [],
   "source": []
  }
 ],
 "metadata": {
  "kernelspec": {
   "display_name": "Python 3",
   "language": "python",
   "name": "python3"
  },
  "language_info": {
   "codemirror_mode": {
    "name": "ipython",
    "version": 3
   },
   "file_extension": ".py",
   "mimetype": "text/x-python",
   "name": "python",
   "nbconvert_exporter": "python",
   "pygments_lexer": "ipython3",
   "version": "3.7.3"
  }
 },
 "nbformat": 4,
 "nbformat_minor": 2
}
