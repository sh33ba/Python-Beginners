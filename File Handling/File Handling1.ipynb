{
 "cells": [
  {
   "cell_type": "markdown",
   "metadata": {},
   "source": [
    "### FILE HANDLING"
   ]
  },
  {
   "cell_type": "code",
   "execution_count": 2,
   "metadata": {},
   "outputs": [],
   "source": [
    "var = open(\"test.txt\",\"r\")"
   ]
  },
  {
   "cell_type": "code",
   "execution_count": 3,
   "metadata": {},
   "outputs": [
    {
     "data": {
      "text/plain": [
       "'HELLO EVERYONE!!'"
      ]
     },
     "execution_count": 3,
     "metadata": {},
     "output_type": "execute_result"
    }
   ],
   "source": [
    "var.read()"
   ]
  },
  {
   "cell_type": "code",
   "execution_count": 20,
   "metadata": {},
   "outputs": [
    {
     "data": {
      "text/plain": [
       "''"
      ]
     },
     "execution_count": 20,
     "metadata": {},
     "output_type": "execute_result"
    }
   ],
   "source": [
    "var.readline()"
   ]
  },
  {
   "cell_type": "code",
   "execution_count": 14,
   "metadata": {},
   "outputs": [
    {
     "name": "stdout",
     "output_type": "stream",
     "text": [
      "['23,45,54,99\\n', '74,56,98,23\\n', '85,74,56,22']\n"
     ]
    }
   ],
   "source": [
    "var = open(\"test.txt\",\"r\")\n",
    "print(var.readlines())"
   ]
  },
  {
   "cell_type": "code",
   "execution_count": 21,
   "metadata": {},
   "outputs": [],
   "source": [
    "d = \"asdasdadssdas\"\n",
    "var2 = open(\"test2.txt\",\"w\")"
   ]
  },
  {
   "cell_type": "code",
   "execution_count": 32,
   "metadata": {},
   "outputs": [],
   "source": [
    "d = \"testing write mode \"\n",
    "var3 = open(\"test2.txt\",\"w\")\n",
    "var3.write(d)\n",
    "var3.close()"
   ]
  },
  {
   "cell_type": "code",
   "execution_count": 28,
   "metadata": {},
   "outputs": [
    {
     "name": "stdout",
     "output_type": "stream",
     "text": [
      "23,45,54,99\n",
      "74,56,98,23\n",
      "85,74,56,22\n"
     ]
    }
   ],
   "source": [
    "with open(\"test.txt\") as f:\n",
    "    print(f.read())"
   ]
  },
  {
   "cell_type": "code",
   "execution_count": 33,
   "metadata": {},
   "outputs": [
    {
     "name": "stdout",
     "output_type": "stream",
     "text": [
      "19\n"
     ]
    }
   ],
   "source": [
    "with open(\"test2.txt\",\"a\") as f:\n",
    "    print(f.write(d))"
   ]
  },
  {
   "cell_type": "code",
   "execution_count": 34,
   "metadata": {},
   "outputs": [],
   "source": [
    "dy={\n",
    "    \"name\":\"sheeba\",\n",
    "    \"age\":\"20\",\n",
    "    \"course\":\"ds,ml,ai\"\n",
    "}"
   ]
  },
  {
   "cell_type": "code",
   "execution_count": 35,
   "metadata": {},
   "outputs": [
    {
     "data": {
      "text/plain": [
       "{'name': 'sheeba', 'age': '20', 'course': 'ds,ml,ai'}"
      ]
     },
     "execution_count": 35,
     "metadata": {},
     "output_type": "execute_result"
    }
   ],
   "source": [
    "dy\n"
   ]
  },
  {
   "cell_type": "code",
   "execution_count": 36,
   "metadata": {},
   "outputs": [
    {
     "data": {
      "text/plain": [
       "\"{'name': 'sheeba', 'age': '20', 'course': 'ds,ml,ai'}\""
      ]
     },
     "execution_count": 36,
     "metadata": {},
     "output_type": "execute_result"
    }
   ],
   "source": [
    "str(dy)"
   ]
  },
  {
   "cell_type": "code",
   "execution_count": 61,
   "metadata": {},
   "outputs": [],
   "source": [
    "dy={\n",
    "      \"name\":\"sheeba\",\n",
    "      \"age\":\"20\",\n",
    "      \"course\":\"ds,ml,ai\"  \n",
    "    },\n",
    "    \n",
    "    \n",
    "with open(\"test3.txt\",\"w\") as fun:\n",
    "    fun.write(json.dumps(dy))"
   ]
  },
  {
   "cell_type": "code",
   "execution_count": 63,
   "metadata": {},
   "outputs": [
    {
     "name": "stdout",
     "output_type": "stream",
     "text": [
      "[{\"name\": \"sheeba\", \"age\": \"20\", \"course\": \"ds,ml,ai\"}]\n"
     ]
    }
   ],
   "source": [
    "import json\n",
    "df = \"\"\n",
    "with open(\"test3.txt\") as fun:\n",
    "    d=fun.read()\n",
    "    df=json.dumps(dy)\n",
    "print(df)"
   ]
  },
  {
   "cell_type": "code",
   "execution_count": null,
   "metadata": {},
   "outputs": [],
   "source": [
    "\n"
   ]
  },
  {
   "cell_type": "markdown",
   "metadata": {},
   "source": [
    "### TAKE INPUT FROM USER AND WRITE IT TO A FILE"
   ]
  },
  {
   "cell_type": "code",
   "execution_count": 2,
   "metadata": {},
   "outputs": [],
   "source": [
    "import json\n",
    "import io"
   ]
  },
  {
   "cell_type": "code",
   "execution_count": 7,
   "metadata": {},
   "outputs": [
    {
     "name": "stdin",
     "output_type": "stream",
     "text": [
      "Enter username and password :  adit 5236\n"
     ]
    }
   ],
   "source": [
    "df = {}\n",
    "rt = input(\"Enter username and password : \").split()\n",
    "df[rt[0]] = {\"password\":rt[1]}\n",
    "\n",
    "with open(\"data.txt\",\"w\") as f:\n",
    "    f.write(json.dumps(df))"
   ]
  },
  {
   "cell_type": "code",
   "execution_count": 8,
   "metadata": {},
   "outputs": [],
   "source": [
    "with open(\"data.txt\") as d:\n",
    "    ds=json.loads(d.read())"
   ]
  },
  {
   "cell_type": "code",
   "execution_count": 6,
   "metadata": {},
   "outputs": [
    {
     "data": {
      "text/plain": [
       "{'sheeba': {'password': '1234'}}"
      ]
     },
     "execution_count": 6,
     "metadata": {},
     "output_type": "execute_result"
    }
   ],
   "source": [
    "df"
   ]
  },
  {
   "cell_type": "code",
   "execution_count": 6,
   "metadata": {},
   "outputs": [
    {
     "name": "stdin",
     "output_type": "stream",
     "text": [
      "Enter username and password :  adfcda 565\n",
      "Enter username and password :  dcd 66\n",
      "Enter username and password :  dcd 33\n",
      "Enter username and password :  dfcdc 565\n",
      "Enter username and password :  dcvd 546\n"
     ]
    }
   ],
   "source": [
    "for i in range(5):\n",
    "    df = {}\n",
    "    rt = input(\"Enter username and password : \").split()\n",
    "    df[rt[0]] = {\"password\":rt[1]}\n",
    "\n",
    "    with open(\"data.txt\",\"a\") as f:\n",
    "        f.write(json.dumps(df))\n",
    "    \n",
    "    with open(\"data.txt\") as d:\n",
    "        ds=json.loads(d.read())\n",
    "        "
   ]
  },
  {
   "cell_type": "code",
   "execution_count": 2,
   "metadata": {},
   "outputs": [
    {
     "name": "stdin",
     "output_type": "stream",
     "text": [
      "1.Login\n",
      "2.Signup 2\n",
      "Enter UserID :  qwer\n",
      "Enter password :  123\n"
     ]
    }
   ],
   "source": [
    "import json\n",
    "\n",
    "#function definitions\n",
    "def dict_dump(dic):\n",
    "    with open(\"data1.txt\",\"w\") as d:\n",
    "        d.write(json.dumps(dic))\n",
    "        \n",
    "def dict_read():\n",
    "    with open(\"data1.txt\",\"r\") as d:\n",
    "        df=json.loads(d.read())\n",
    "    return df\n",
    "\n",
    "c=input(\"1.Login\\n2.Signup\")\n",
    "if c==\"1\":\n",
    "    #login\n",
    "    u=input(\"Enter UserID : \")\n",
    "    \n",
    "    df=dict_read()\n",
    "    if u in list(df.keys()):\n",
    "        p=input(\"Enter password : \")\n",
    "        if df[u][\"pwd\"] == p:\n",
    "            print(\"Login Succesful\")\n",
    "    else:\n",
    "         print(\"Login Failed!\")\n",
    "elif c==\"2\":\n",
    "    #signup\n",
    "    userid=input(\"Enter UserID : \")\n",
    "    df=dict_read()\n",
    "    if not userid in list(df.keys()):\n",
    "        pwd=input(\"Enter password : \")\n",
    "    \n",
    "        df[userid]={\"pwd\":pwd}\n",
    "        dict_dump(df)\n",
    "    else:\n",
    "        print(\"Try Another username\")\n",
    "else:\n",
    "    print(\"Wrong choice\")\n",
    "    \n",
    "    \n",
    "\n"
   ]
  },
  {
   "cell_type": "code",
   "execution_count": null,
   "metadata": {},
   "outputs": [],
   "source": []
  }
 ],
 "metadata": {
  "kernelspec": {
   "display_name": "Python 3",
   "language": "python",
   "name": "python3"
  },
  "language_info": {
   "codemirror_mode": {
    "name": "ipython",
    "version": 3
   },
   "file_extension": ".py",
   "mimetype": "text/x-python",
   "name": "python",
   "nbconvert_exporter": "python",
   "pygments_lexer": "ipython3",
   "version": "3.7.3"
  }
 },
 "nbformat": 4,
 "nbformat_minor": 2
}
