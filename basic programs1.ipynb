{
 "cells": [
  {
   "cell_type": "markdown",
   "metadata": {},
   "source": [
    "#### 1. PROGRAM TO PRINT TABLE OF INPUT NUMBER FROM USER"
   ]
  },
  {
   "cell_type": "code",
   "execution_count": 30,
   "metadata": {},
   "outputs": [
    {
     "name": "stdin",
     "output_type": "stream",
     "text": [
      "Enter Number :  8\n"
     ]
    },
    {
     "name": "stdout",
     "output_type": "stream",
     "text": [
      "8  X  1  =  8\n",
      "8  X  2  =  16\n",
      "8  X  3  =  24\n",
      "8  X  4  =  32\n",
      "8  X  5  =  40\n",
      "8  X  6  =  48\n",
      "8  X  7  =  56\n",
      "8  X  8  =  64\n",
      "8  X  9  =  72\n",
      "8  X  10  =  80\n"
     ]
    }
   ],
   "source": [
    "n = int(input(\"Enter Number : \" ))\n",
    "for i in range(1,11):\n",
    "    print(n,\" X \",i,\" = \", n*i)"
   ]
  },
  {
   "cell_type": "markdown",
   "metadata": {},
   "source": [
    "#### 2. PROGRAM TO REVERSE A STRING INPUT FROM USER"
   ]
  },
  {
   "cell_type": "code",
   "execution_count": 8,
   "metadata": {},
   "outputs": [
    {
     "name": "stdin",
     "output_type": "stream",
     "text": [
      "Enter a String :  iwritecode\n"
     ]
    },
    {
     "name": "stdout",
     "output_type": "stream",
     "text": [
      "edocetirwi"
     ]
    }
   ],
   "source": [
    "s = input(\"Enter a String : \")\n",
    "j=-1\n",
    "for i in s:\n",
    "    print(s[j], end=\"\")\n",
    "    j-=1"
   ]
  },
  {
   "cell_type": "markdown",
   "metadata": {},
   "source": [
    "#### 3. PROGRAM TO MIX TWO STRINGS IN ALTERNATE MANNER"
   ]
  },
  {
   "cell_type": "code",
   "execution_count": 15,
   "metadata": {},
   "outputs": [
    {
     "name": "stdin",
     "output_type": "stream",
     "text": [
      "Enter 1st String :  apple\n",
      "Enter 2nd String :  orange\n"
     ]
    },
    {
     "name": "stdout",
     "output_type": "stream",
     "text": [
      "aoprpalnege\n"
     ]
    }
   ],
   "source": [
    "s1 = input(\"Enter 1st String : \")\n",
    "s2 = input(\"Enter 2nd String : \")\n",
    "l_s1 = len(s1)\n",
    "l_s2 = len(s2)\n",
    "s=\"\"\n",
    "\n",
    "if l_s1<l_s2:\n",
    "    for i in range(l_s2):\n",
    "        if i<l_s1:\n",
    "            s+=(s1[i]+s2[i])\n",
    "        else:\n",
    "            s+=s2[i]\n",
    "else:\n",
    "    for i in range(l_s1):\n",
    "        if i<l_s2:\n",
    "            s+=(s1[i]+s2[i])\n",
    "        else:\n",
    "            s+=s1[i]\n",
    "print(s)"
   ]
  },
  {
   "cell_type": "markdown",
   "metadata": {},
   "source": [
    "#### 4. SIMPLE LOAN CALCULATOR PROGRAM"
   ]
  },
  {
   "cell_type": "code",
   "execution_count": 17,
   "metadata": {},
   "outputs": [
    {
     "name": "stdin",
     "output_type": "stream",
     "text": [
      "Enter loan amount :  1000\n",
      "Enter time period (years) :  3\n"
     ]
    },
    {
     "name": "stdout",
     "output_type": "stream",
     "text": [
      "Total Amount to pay :  1120.0\n"
     ]
    }
   ],
   "source": [
    "loan_a = int(input(\"Enter loan amount : \"))\n",
    "time_p = int(input(\"Enter time period (years) : \"))\n",
    "\n",
    "i = 4/100\n",
    "amount = loan_a + (loan_a*i*time_p)\n",
    "print(\"Total Amount to pay : \",amount)"
   ]
  },
  {
   "cell_type": "markdown",
   "metadata": {},
   "source": [
    "#### 5. TO PRINT THE GIVEN PATTERN\n",
    "    \\\\\n",
    "     \\\\\n",
    "      \\\\\n",
    "       \\\\\n",
    "       //\n",
    "      // \n",
    "     //\n",
    "    // "
   ]
  },
  {
   "cell_type": "code",
   "execution_count": 41,
   "metadata": {},
   "outputs": [
    {
     "name": "stdout",
     "output_type": "stream",
     "text": [
      "\\\\\n",
      " \\\\\n",
      "  \\\\\n",
      "   \\\\\n",
      "   //\n",
      "  //\n",
      " //\n",
      "//\n"
     ]
    }
   ],
   "source": [
    "k=8\n",
    "for i in range(k):\n",
    "    if i<k/2:\n",
    "        print(\" \"*i + \"\\\\\"+\"\\\\\")\n",
    "    else:\n",
    "        print(\" \"*(k-i-1) + \"//\")\n",
    "        \n",
    "    "
   ]
  },
  {
   "cell_type": "code",
   "execution_count": null,
   "metadata": {},
   "outputs": [],
   "source": []
  }
 ],
 "metadata": {
  "kernelspec": {
   "display_name": "Python 3",
   "language": "python",
   "name": "python3"
  },
  "language_info": {
   "codemirror_mode": {
    "name": "ipython",
    "version": 3
   },
   "file_extension": ".py",
   "mimetype": "text/x-python",
   "name": "python",
   "nbconvert_exporter": "python",
   "pygments_lexer": "ipython3",
   "version": "3.7.3"
  }
 },
 "nbformat": 4,
 "nbformat_minor": 2
}
