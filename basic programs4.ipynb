{
 "cells": [
  {
   "cell_type": "markdown",
   "metadata": {},
   "source": [
    "#### 1. CHARACTER PICTURE GRID"
   ]
  },
  {
   "cell_type": "code",
   "execution_count": 5,
   "metadata": {},
   "outputs": [
    {
     "name": "stdout",
     "output_type": "stream",
     "text": [
      "..00.00..\n",
      ".0000000.\n",
      ".0000000.\n",
      "..00000..\n",
      "...000...\n",
      "....0....\n"
     ]
    }
   ],
   "source": [
    "grid =  [['.','.','.','.','.','.'],\n",
    "         ['.','0','0','.','.','.'],\n",
    "         ['0','0','0','0','.','.'],\n",
    "         ['0','0','0','0','0','.'],\n",
    "         ['.','0','0','0','0','0'],\n",
    "         ['0','0','0','0','0','.'],\n",
    "         ['0','0','0','0','.','.'],\n",
    "         ['.','0','0','.','.','.'],\n",
    "         ['.','.','.','.','.','.']]\n",
    "for i in range(6):\n",
    "    for j in range(9):\n",
    "        print(grid[j][i], end=\"\")\n",
    "    print()"
   ]
  },
  {
   "cell_type": "code",
   "execution_count": null,
   "metadata": {},
   "outputs": [],
   "source": [
    "import numpy\n"
   ]
  },
  {
   "cell_type": "markdown",
   "metadata": {},
   "source": [
    "#### 2.CONVERT LIST INTO STRING"
   ]
  },
  {
   "cell_type": "code",
   "execution_count": 9,
   "metadata": {},
   "outputs": [
    {
     "name": "stdout",
     "output_type": "stream",
     "text": [
      "sunmontuewedthufrisat\n"
     ]
    }
   ],
   "source": [
    "weekdays = ['sun','mon','tue','wed','thu','fri','sat']\n",
    "s=\"\"\n",
    "for i in weekdays:\n",
    "    s+=i\n",
    "print(s)"
   ]
  },
  {
   "cell_type": "markdown",
   "metadata": {},
   "source": [
    "#### 3. PRINT AVERAGE OF NUMBERS IN LIST"
   ]
  },
  {
   "cell_type": "code",
   "execution_count": 10,
   "metadata": {},
   "outputs": [
    {
     "name": "stdin",
     "output_type": "stream",
     "text": [
      "Enter Numbers :  1 2 3 4 5 6 7 8 9 10\n"
     ]
    },
    {
     "name": "stdout",
     "output_type": "stream",
     "text": [
      "Average of elements in list :  5.5\n"
     ]
    }
   ],
   "source": [
    "num_list = list(map(int, input(\"Enter Numbers : \").split()))\n",
    "sum = 0\n",
    "for i in num_list:\n",
    "    sum += i\n",
    "\n",
    "av = sum/len(num_list)\n",
    "print(\"Average of elements in list : \",av)"
   ]
  },
  {
   "cell_type": "markdown",
   "metadata": {},
   "source": [
    "#### 4. PRINT PART OF EMAIL ID BEFORE \"@\" "
   ]
  },
  {
   "cell_type": "code",
   "execution_count": 2,
   "metadata": {},
   "outputs": [
    {
     "name": "stdin",
     "output_type": "stream",
     "text": [
      "Enter your Email ID :  abc34@gmail.com\n"
     ]
    },
    {
     "name": "stdout",
     "output_type": "stream",
     "text": [
      "abc34\n"
     ]
    }
   ],
   "source": [
    "email_id = input(\"Enter your Email ID : \")\n",
    "name=\"\"\n",
    "for i in email_id:\n",
    "    if i == \"@\":\n",
    "        break\n",
    "    else:\n",
    "        name += i\n",
    "print(name)"
   ]
  },
  {
   "cell_type": "markdown",
   "metadata": {},
   "source": [
    "#### 5. PROGRAM TO COUNT THE SERIES 1/2+2/3+3/4+...+n/n+1 "
   ]
  },
  {
   "cell_type": "code",
   "execution_count": 11,
   "metadata": {},
   "outputs": [
    {
     "name": "stdin",
     "output_type": "stream",
     "text": [
      "Enter Number upto which the series is to be found :  5\n"
     ]
    },
    {
     "name": "stdout",
     "output_type": "stream",
     "text": [
      "Result : 3.55\n"
     ]
    }
   ],
   "source": [
    "n = int(input(\"Enter Number upto which the series is to be found : \"))\n",
    "s=0\n",
    "for i in range(1,n+1):\n",
    "    s += i/(i+1)\n",
    "    \n",
    "print(\"Result : %.2f\"%s)"
   ]
  },
  {
   "cell_type": "code",
   "execution_count": null,
   "metadata": {},
   "outputs": [],
   "source": []
  }
 ],
 "metadata": {
  "kernelspec": {
   "display_name": "Python 3",
   "language": "python",
   "name": "python3"
  },
  "language_info": {
   "codemirror_mode": {
    "name": "ipython",
    "version": 3
   },
   "file_extension": ".py",
   "mimetype": "text/x-python",
   "name": "python",
   "nbconvert_exporter": "python",
   "pygments_lexer": "ipython3",
   "version": "3.7.3"
  }
 },
 "nbformat": 4,
 "nbformat_minor": 2
}
